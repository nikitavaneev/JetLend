{
 "cells": [
  {
   "cell_type": "code",
   "execution_count": 1,
   "id": "880c3edc",
   "metadata": {},
   "outputs": [],
   "source": [
    "import numpy as np              \n",
    "import matplotlib.pyplot as plt \n",
    "import pandas as pd             \n",
    "import seaborn as sns \n",
    "from sklearn import model_selection, ensemble,linear_model, metrics\n",
    "import warnings\n",
    "warnings.filterwarnings('ignore')"
   ]
  },
  {
   "cell_type": "markdown",
   "id": "0d96886d",
   "metadata": {},
   "source": [
    "Загружаем данные"
   ]
  },
  {
   "cell_type": "code",
   "execution_count": 2,
   "id": "feb189f7",
   "metadata": {},
   "outputs": [
    {
     "data": {
      "text/html": [
       "<div>\n",
       "<style scoped>\n",
       "    .dataframe tbody tr th:only-of-type {\n",
       "        vertical-align: middle;\n",
       "    }\n",
       "\n",
       "    .dataframe tbody tr th {\n",
       "        vertical-align: top;\n",
       "    }\n",
       "\n",
       "    .dataframe thead th {\n",
       "        text-align: right;\n",
       "    }\n",
       "</style>\n",
       "<table border=\"1\" class=\"dataframe\">\n",
       "  <thead>\n",
       "    <tr style=\"text-align: right;\">\n",
       "      <th></th>\n",
       "      <th>Loan issued</th>\n",
       "      <th>Рейтинг</th>\n",
       "      <th>Comission, %</th>\n",
       "      <th>Earned interest</th>\n",
       "      <th>Unpaid, full amount</th>\n",
       "      <th>EL</th>\n",
       "    </tr>\n",
       "  </thead>\n",
       "  <tbody>\n",
       "    <tr>\n",
       "      <th>0</th>\n",
       "      <td>3 170 000 ₽</td>\n",
       "      <td>7</td>\n",
       "      <td>0.0530</td>\n",
       "      <td>211 051 ₽</td>\n",
       "      <td>862 850 ₽</td>\n",
       "      <td>0.015</td>\n",
       "    </tr>\n",
       "    <tr>\n",
       "      <th>1</th>\n",
       "      <td>500 000 ₽</td>\n",
       "      <td>17</td>\n",
       "      <td>0.0650</td>\n",
       "      <td>39 518 ₽</td>\n",
       "      <td>289 518 ₽</td>\n",
       "      <td>0.100</td>\n",
       "    </tr>\n",
       "    <tr>\n",
       "      <th>2</th>\n",
       "      <td>11 600 897 ₽</td>\n",
       "      <td>9</td>\n",
       "      <td>0.0450</td>\n",
       "      <td>537 680 ₽</td>\n",
       "      <td>9 567 386 ₽</td>\n",
       "      <td>0.015</td>\n",
       "    </tr>\n",
       "    <tr>\n",
       "      <th>3</th>\n",
       "      <td>5 250 000 ₽</td>\n",
       "      <td>13</td>\n",
       "      <td>0.0450</td>\n",
       "      <td>233 022 ₽</td>\n",
       "      <td>2 858 022 ₽</td>\n",
       "      <td>0.015</td>\n",
       "    </tr>\n",
       "    <tr>\n",
       "      <th>4</th>\n",
       "      <td>3 000 000 ₽</td>\n",
       "      <td>8</td>\n",
       "      <td>0.0375</td>\n",
       "      <td>216 485 ₽</td>\n",
       "      <td>0</td>\n",
       "      <td>0.000</td>\n",
       "    </tr>\n",
       "    <tr>\n",
       "      <th>...</th>\n",
       "      <td>...</td>\n",
       "      <td>...</td>\n",
       "      <td>...</td>\n",
       "      <td>...</td>\n",
       "      <td>...</td>\n",
       "      <td>...</td>\n",
       "    </tr>\n",
       "    <tr>\n",
       "      <th>527</th>\n",
       "      <td>3 000 000 ₽</td>\n",
       "      <td>17</td>\n",
       "      <td>0.0680</td>\n",
       "      <td>83 062 ₽</td>\n",
       "      <td>3 206 436 ₽</td>\n",
       "      <td>0.015</td>\n",
       "    </tr>\n",
       "    <tr>\n",
       "      <th>528</th>\n",
       "      <td>6 560 000 ₽</td>\n",
       "      <td>10</td>\n",
       "      <td>0.0530</td>\n",
       "      <td>250 635 ₽</td>\n",
       "      <td>4 309 425 ₽</td>\n",
       "      <td>0.015</td>\n",
       "    </tr>\n",
       "    <tr>\n",
       "      <th>529</th>\n",
       "      <td>2 844 671 ₽</td>\n",
       "      <td>14</td>\n",
       "      <td>0.0550</td>\n",
       "      <td>233 514 ₽</td>\n",
       "      <td>1 064 981 ₽</td>\n",
       "      <td>0.400</td>\n",
       "    </tr>\n",
       "    <tr>\n",
       "      <th>530</th>\n",
       "      <td>500 000 ₽</td>\n",
       "      <td>12</td>\n",
       "      <td>0.0550</td>\n",
       "      <td>13 235 ₽</td>\n",
       "      <td>414 705 ₽</td>\n",
       "      <td>0.015</td>\n",
       "    </tr>\n",
       "    <tr>\n",
       "      <th>531</th>\n",
       "      <td>5 000 000 ₽</td>\n",
       "      <td>13</td>\n",
       "      <td>0.0500</td>\n",
       "      <td>276 999 ₽</td>\n",
       "      <td>1 805 166 ₽</td>\n",
       "      <td>0.015</td>\n",
       "    </tr>\n",
       "  </tbody>\n",
       "</table>\n",
       "<p>532 rows × 6 columns</p>\n",
       "</div>"
      ],
      "text/plain": [
       "      Loan issued  Рейтинг  Comission, % Earned interest Unpaid, full amount  \\\n",
       "0     3 170 000 ₽        7        0.0530       211 051 ₽           862 850 ₽   \n",
       "1       500 000 ₽       17        0.0650        39 518 ₽           289 518 ₽   \n",
       "2    11 600 897 ₽        9        0.0450       537 680 ₽         9 567 386 ₽   \n",
       "3     5 250 000 ₽       13        0.0450       233 022 ₽         2 858 022 ₽   \n",
       "4     3 000 000 ₽        8        0.0375       216 485 ₽                   0   \n",
       "..            ...      ...           ...             ...                 ...   \n",
       "527   3 000 000 ₽       17        0.0680        83 062 ₽         3 206 436 ₽   \n",
       "528   6 560 000 ₽       10        0.0530       250 635 ₽         4 309 425 ₽   \n",
       "529   2 844 671 ₽       14        0.0550       233 514 ₽         1 064 981 ₽   \n",
       "530     500 000 ₽       12        0.0550        13 235 ₽           414 705 ₽   \n",
       "531   5 000 000 ₽       13        0.0500       276 999 ₽         1 805 166 ₽   \n",
       "\n",
       "        EL  \n",
       "0    0.015  \n",
       "1    0.100  \n",
       "2    0.015  \n",
       "3    0.015  \n",
       "4    0.000  \n",
       "..     ...  \n",
       "527  0.015  \n",
       "528  0.015  \n",
       "529  0.400  \n",
       "530  0.015  \n",
       "531  0.015  \n",
       "\n",
       "[532 rows x 6 columns]"
      ]
     },
     "execution_count": 2,
     "metadata": {},
     "output_type": "execute_result"
    }
   ],
   "source": [
    "import pandas as pd\n",
    "import numpy as np\n",
    "x1 =r'test.xlsx'\n",
    "x = pd.ExcelFile(x1)\n",
    "data = x.parse('Лист1')\n",
    "data"
   ]
  },
  {
   "cell_type": "markdown",
   "id": "5c63dc80",
   "metadata": {},
   "source": [
    "Создаем функцию обработки"
   ]
  },
  {
   "cell_type": "code",
   "execution_count": 3,
   "id": "731be319",
   "metadata": {},
   "outputs": [],
   "source": [
    "def prepare_data(data,param):\n",
    "    \n",
    "    data[param] = data[param].str.replace('₽','')\n",
    "    data[param] = data[param].replace(r'\\s+','',regex=True).fillna(0)\n",
    "    data[param] =data[param].astype(int)"
   ]
  },
  {
   "cell_type": "code",
   "execution_count": 4,
   "id": "d5dd3415",
   "metadata": {},
   "outputs": [],
   "source": [
    "prepare_data(data,'Loan issued')\n",
    "prepare_data(data,'Earned interest')\n",
    "prepare_data(data,'Unpaid, full amount')"
   ]
  },
  {
   "cell_type": "code",
   "execution_count": 5,
   "id": "cdfc6b14",
   "metadata": {},
   "outputs": [
    {
     "data": {
      "text/html": [
       "<div>\n",
       "<style scoped>\n",
       "    .dataframe tbody tr th:only-of-type {\n",
       "        vertical-align: middle;\n",
       "    }\n",
       "\n",
       "    .dataframe tbody tr th {\n",
       "        vertical-align: top;\n",
       "    }\n",
       "\n",
       "    .dataframe thead th {\n",
       "        text-align: right;\n",
       "    }\n",
       "</style>\n",
       "<table border=\"1\" class=\"dataframe\">\n",
       "  <thead>\n",
       "    <tr style=\"text-align: right;\">\n",
       "      <th></th>\n",
       "      <th>Loan issued</th>\n",
       "      <th>Рейтинг</th>\n",
       "      <th>Comission, %</th>\n",
       "      <th>Earned interest</th>\n",
       "      <th>Unpaid, full amount</th>\n",
       "      <th>EL</th>\n",
       "    </tr>\n",
       "  </thead>\n",
       "  <tbody>\n",
       "    <tr>\n",
       "      <th>0</th>\n",
       "      <td>3170000</td>\n",
       "      <td>7</td>\n",
       "      <td>0.0530</td>\n",
       "      <td>211051</td>\n",
       "      <td>862850</td>\n",
       "      <td>0.015</td>\n",
       "    </tr>\n",
       "    <tr>\n",
       "      <th>1</th>\n",
       "      <td>500000</td>\n",
       "      <td>17</td>\n",
       "      <td>0.0650</td>\n",
       "      <td>39518</td>\n",
       "      <td>289518</td>\n",
       "      <td>0.100</td>\n",
       "    </tr>\n",
       "    <tr>\n",
       "      <th>2</th>\n",
       "      <td>11600897</td>\n",
       "      <td>9</td>\n",
       "      <td>0.0450</td>\n",
       "      <td>537680</td>\n",
       "      <td>9567386</td>\n",
       "      <td>0.015</td>\n",
       "    </tr>\n",
       "    <tr>\n",
       "      <th>3</th>\n",
       "      <td>5250000</td>\n",
       "      <td>13</td>\n",
       "      <td>0.0450</td>\n",
       "      <td>233022</td>\n",
       "      <td>2858022</td>\n",
       "      <td>0.015</td>\n",
       "    </tr>\n",
       "    <tr>\n",
       "      <th>4</th>\n",
       "      <td>3000000</td>\n",
       "      <td>8</td>\n",
       "      <td>0.0375</td>\n",
       "      <td>216485</td>\n",
       "      <td>0</td>\n",
       "      <td>0.000</td>\n",
       "    </tr>\n",
       "    <tr>\n",
       "      <th>...</th>\n",
       "      <td>...</td>\n",
       "      <td>...</td>\n",
       "      <td>...</td>\n",
       "      <td>...</td>\n",
       "      <td>...</td>\n",
       "      <td>...</td>\n",
       "    </tr>\n",
       "    <tr>\n",
       "      <th>527</th>\n",
       "      <td>3000000</td>\n",
       "      <td>17</td>\n",
       "      <td>0.0680</td>\n",
       "      <td>83062</td>\n",
       "      <td>3206436</td>\n",
       "      <td>0.015</td>\n",
       "    </tr>\n",
       "    <tr>\n",
       "      <th>528</th>\n",
       "      <td>6560000</td>\n",
       "      <td>10</td>\n",
       "      <td>0.0530</td>\n",
       "      <td>250635</td>\n",
       "      <td>4309425</td>\n",
       "      <td>0.015</td>\n",
       "    </tr>\n",
       "    <tr>\n",
       "      <th>529</th>\n",
       "      <td>2844671</td>\n",
       "      <td>14</td>\n",
       "      <td>0.0550</td>\n",
       "      <td>233514</td>\n",
       "      <td>1064981</td>\n",
       "      <td>0.400</td>\n",
       "    </tr>\n",
       "    <tr>\n",
       "      <th>530</th>\n",
       "      <td>500000</td>\n",
       "      <td>12</td>\n",
       "      <td>0.0550</td>\n",
       "      <td>13235</td>\n",
       "      <td>414705</td>\n",
       "      <td>0.015</td>\n",
       "    </tr>\n",
       "    <tr>\n",
       "      <th>531</th>\n",
       "      <td>5000000</td>\n",
       "      <td>13</td>\n",
       "      <td>0.0500</td>\n",
       "      <td>276999</td>\n",
       "      <td>1805166</td>\n",
       "      <td>0.015</td>\n",
       "    </tr>\n",
       "  </tbody>\n",
       "</table>\n",
       "<p>532 rows × 6 columns</p>\n",
       "</div>"
      ],
      "text/plain": [
       "     Loan issued  Рейтинг  Comission, %  Earned interest  Unpaid, full amount  \\\n",
       "0        3170000        7        0.0530           211051               862850   \n",
       "1         500000       17        0.0650            39518               289518   \n",
       "2       11600897        9        0.0450           537680              9567386   \n",
       "3        5250000       13        0.0450           233022              2858022   \n",
       "4        3000000        8        0.0375           216485                    0   \n",
       "..           ...      ...           ...              ...                  ...   \n",
       "527      3000000       17        0.0680            83062              3206436   \n",
       "528      6560000       10        0.0530           250635              4309425   \n",
       "529      2844671       14        0.0550           233514              1064981   \n",
       "530       500000       12        0.0550            13235               414705   \n",
       "531      5000000       13        0.0500           276999              1805166   \n",
       "\n",
       "        EL  \n",
       "0    0.015  \n",
       "1    0.100  \n",
       "2    0.015  \n",
       "3    0.015  \n",
       "4    0.000  \n",
       "..     ...  \n",
       "527  0.015  \n",
       "528  0.015  \n",
       "529  0.400  \n",
       "530  0.015  \n",
       "531  0.015  \n",
       "\n",
       "[532 rows x 6 columns]"
      ]
     },
     "execution_count": 5,
     "metadata": {},
     "output_type": "execute_result"
    }
   ],
   "source": [
    "data"
   ]
  },
  {
   "cell_type": "markdown",
   "id": "1bf505c3",
   "metadata": {},
   "source": [
    "Считаем наши параметры"
   ]
  },
  {
   "cell_type": "markdown",
   "id": "4f2314fb",
   "metadata": {},
   "source": [
    "Loss = Unpaid * (EL, expected loss)  \n",
    "InvestorProfit = Earned — Loss  \n",
    "Profit = InvestorProfit + Commission  \n",
    "Profit% = Profit / LoanIssued  "
   ]
  },
  {
   "cell_type": "code",
   "execution_count": 6,
   "id": "9ce11ba5",
   "metadata": {},
   "outputs": [
    {
     "data": {
      "text/html": [
       "<div>\n",
       "<style scoped>\n",
       "    .dataframe tbody tr th:only-of-type {\n",
       "        vertical-align: middle;\n",
       "    }\n",
       "\n",
       "    .dataframe tbody tr th {\n",
       "        vertical-align: top;\n",
       "    }\n",
       "\n",
       "    .dataframe thead th {\n",
       "        text-align: right;\n",
       "    }\n",
       "</style>\n",
       "<table border=\"1\" class=\"dataframe\">\n",
       "  <thead>\n",
       "    <tr style=\"text-align: right;\">\n",
       "      <th></th>\n",
       "      <th>Loan issued</th>\n",
       "      <th>Рейтинг</th>\n",
       "      <th>Comission, %</th>\n",
       "      <th>Earned interest</th>\n",
       "      <th>Unpaid, full amount</th>\n",
       "      <th>EL</th>\n",
       "      <th>Loss</th>\n",
       "      <th>InvestorProfit</th>\n",
       "      <th>profit</th>\n",
       "      <th>profit_per</th>\n",
       "    </tr>\n",
       "  </thead>\n",
       "  <tbody>\n",
       "    <tr>\n",
       "      <th>0</th>\n",
       "      <td>3170000</td>\n",
       "      <td>7</td>\n",
       "      <td>0.0530</td>\n",
       "      <td>211051</td>\n",
       "      <td>862850</td>\n",
       "      <td>0.015</td>\n",
       "      <td>12942.750</td>\n",
       "      <td>198108.250</td>\n",
       "      <td>208607.987250</td>\n",
       "      <td>0.065807</td>\n",
       "    </tr>\n",
       "    <tr>\n",
       "      <th>1</th>\n",
       "      <td>500000</td>\n",
       "      <td>17</td>\n",
       "      <td>0.0650</td>\n",
       "      <td>39518</td>\n",
       "      <td>289518</td>\n",
       "      <td>0.100</td>\n",
       "      <td>28951.800</td>\n",
       "      <td>10566.200</td>\n",
       "      <td>11253.003000</td>\n",
       "      <td>0.022506</td>\n",
       "    </tr>\n",
       "    <tr>\n",
       "      <th>2</th>\n",
       "      <td>11600897</td>\n",
       "      <td>9</td>\n",
       "      <td>0.0450</td>\n",
       "      <td>537680</td>\n",
       "      <td>9567386</td>\n",
       "      <td>0.015</td>\n",
       "      <td>143510.790</td>\n",
       "      <td>394169.210</td>\n",
       "      <td>411906.824450</td>\n",
       "      <td>0.035506</td>\n",
       "    </tr>\n",
       "    <tr>\n",
       "      <th>3</th>\n",
       "      <td>5250000</td>\n",
       "      <td>13</td>\n",
       "      <td>0.0450</td>\n",
       "      <td>233022</td>\n",
       "      <td>2858022</td>\n",
       "      <td>0.015</td>\n",
       "      <td>42870.330</td>\n",
       "      <td>190151.670</td>\n",
       "      <td>198708.495150</td>\n",
       "      <td>0.037849</td>\n",
       "    </tr>\n",
       "    <tr>\n",
       "      <th>4</th>\n",
       "      <td>3000000</td>\n",
       "      <td>8</td>\n",
       "      <td>0.0375</td>\n",
       "      <td>216485</td>\n",
       "      <td>0</td>\n",
       "      <td>0.000</td>\n",
       "      <td>0.000</td>\n",
       "      <td>216485.000</td>\n",
       "      <td>224603.187500</td>\n",
       "      <td>0.074868</td>\n",
       "    </tr>\n",
       "    <tr>\n",
       "      <th>...</th>\n",
       "      <td>...</td>\n",
       "      <td>...</td>\n",
       "      <td>...</td>\n",
       "      <td>...</td>\n",
       "      <td>...</td>\n",
       "      <td>...</td>\n",
       "      <td>...</td>\n",
       "      <td>...</td>\n",
       "      <td>...</td>\n",
       "      <td>...</td>\n",
       "    </tr>\n",
       "    <tr>\n",
       "      <th>527</th>\n",
       "      <td>3000000</td>\n",
       "      <td>17</td>\n",
       "      <td>0.0680</td>\n",
       "      <td>83062</td>\n",
       "      <td>3206436</td>\n",
       "      <td>0.015</td>\n",
       "      <td>48096.540</td>\n",
       "      <td>34965.460</td>\n",
       "      <td>37343.111280</td>\n",
       "      <td>0.012448</td>\n",
       "    </tr>\n",
       "    <tr>\n",
       "      <th>528</th>\n",
       "      <td>6560000</td>\n",
       "      <td>10</td>\n",
       "      <td>0.0530</td>\n",
       "      <td>250635</td>\n",
       "      <td>4309425</td>\n",
       "      <td>0.015</td>\n",
       "      <td>64641.375</td>\n",
       "      <td>185993.625</td>\n",
       "      <td>195851.287125</td>\n",
       "      <td>0.029855</td>\n",
       "    </tr>\n",
       "    <tr>\n",
       "      <th>529</th>\n",
       "      <td>2844671</td>\n",
       "      <td>14</td>\n",
       "      <td>0.0550</td>\n",
       "      <td>233514</td>\n",
       "      <td>1064981</td>\n",
       "      <td>0.400</td>\n",
       "      <td>425992.400</td>\n",
       "      <td>-192478.400</td>\n",
       "      <td>-203064.712000</td>\n",
       "      <td>-0.071384</td>\n",
       "    </tr>\n",
       "    <tr>\n",
       "      <th>530</th>\n",
       "      <td>500000</td>\n",
       "      <td>12</td>\n",
       "      <td>0.0550</td>\n",
       "      <td>13235</td>\n",
       "      <td>414705</td>\n",
       "      <td>0.015</td>\n",
       "      <td>6220.575</td>\n",
       "      <td>7014.425</td>\n",
       "      <td>7400.218375</td>\n",
       "      <td>0.014800</td>\n",
       "    </tr>\n",
       "    <tr>\n",
       "      <th>531</th>\n",
       "      <td>5000000</td>\n",
       "      <td>13</td>\n",
       "      <td>0.0500</td>\n",
       "      <td>276999</td>\n",
       "      <td>1805166</td>\n",
       "      <td>0.015</td>\n",
       "      <td>27077.490</td>\n",
       "      <td>249921.510</td>\n",
       "      <td>262417.585500</td>\n",
       "      <td>0.052484</td>\n",
       "    </tr>\n",
       "  </tbody>\n",
       "</table>\n",
       "<p>532 rows × 10 columns</p>\n",
       "</div>"
      ],
      "text/plain": [
       "     Loan issued  Рейтинг  Comission, %  Earned interest  Unpaid, full amount  \\\n",
       "0        3170000        7        0.0530           211051               862850   \n",
       "1         500000       17        0.0650            39518               289518   \n",
       "2       11600897        9        0.0450           537680              9567386   \n",
       "3        5250000       13        0.0450           233022              2858022   \n",
       "4        3000000        8        0.0375           216485                    0   \n",
       "..           ...      ...           ...              ...                  ...   \n",
       "527      3000000       17        0.0680            83062              3206436   \n",
       "528      6560000       10        0.0530           250635              4309425   \n",
       "529      2844671       14        0.0550           233514              1064981   \n",
       "530       500000       12        0.0550            13235               414705   \n",
       "531      5000000       13        0.0500           276999              1805166   \n",
       "\n",
       "        EL        Loss  InvestorProfit         profit  profit_per  \n",
       "0    0.015   12942.750      198108.250  208607.987250    0.065807  \n",
       "1    0.100   28951.800       10566.200   11253.003000    0.022506  \n",
       "2    0.015  143510.790      394169.210  411906.824450    0.035506  \n",
       "3    0.015   42870.330      190151.670  198708.495150    0.037849  \n",
       "4    0.000       0.000      216485.000  224603.187500    0.074868  \n",
       "..     ...         ...             ...            ...         ...  \n",
       "527  0.015   48096.540       34965.460   37343.111280    0.012448  \n",
       "528  0.015   64641.375      185993.625  195851.287125    0.029855  \n",
       "529  0.400  425992.400     -192478.400 -203064.712000   -0.071384  \n",
       "530  0.015    6220.575        7014.425    7400.218375    0.014800  \n",
       "531  0.015   27077.490      249921.510  262417.585500    0.052484  \n",
       "\n",
       "[532 rows x 10 columns]"
      ]
     },
     "execution_count": 6,
     "metadata": {},
     "output_type": "execute_result"
    }
   ],
   "source": [
    "data['Loss'] = data['Unpaid, full amount']*data['EL']\n",
    "data['InvestorProfit'] = data['Earned interest']-data['Loss']\n",
    "data['profit'] = data['InvestorProfit']*(1+data['Comission, %'])\n",
    "data['profit_per'] = data['profit']/data['Loan issued']\n",
    "data"
   ]
  },
  {
   "cell_type": "code",
   "execution_count": 7,
   "id": "94f8480d",
   "metadata": {},
   "outputs": [
    {
     "data": {
      "text/plain": [
       "count    532.000000\n",
       "mean       0.007958\n",
       "std        0.124110\n",
       "min       -1.245886\n",
       "25%        0.001763\n",
       "50%        0.028302\n",
       "75%        0.052681\n",
       "max        0.162102\n",
       "Name: profit_per, dtype: float64"
      ]
     },
     "execution_count": 7,
     "metadata": {},
     "output_type": "execute_result"
    }
   ],
   "source": [
    "data['profit_per'].describe()"
   ]
  },
  {
   "cell_type": "markdown",
   "id": "05e2cf62",
   "metadata": {},
   "source": [
    "Чтобы найти максимальных общий профит, нам нужно давать кредит всем, у кого profit_per>0 и не давать тем, у кого меньше"
   ]
  },
  {
   "cell_type": "code",
   "execution_count": 8,
   "id": "7935ecf4",
   "metadata": {
    "scrolled": true
   },
   "outputs": [
    {
     "data": {
      "text/html": [
       "<div>\n",
       "<style scoped>\n",
       "    .dataframe tbody tr th:only-of-type {\n",
       "        vertical-align: middle;\n",
       "    }\n",
       "\n",
       "    .dataframe tbody tr th {\n",
       "        vertical-align: top;\n",
       "    }\n",
       "\n",
       "    .dataframe thead th {\n",
       "        text-align: right;\n",
       "    }\n",
       "</style>\n",
       "<table border=\"1\" class=\"dataframe\">\n",
       "  <thead>\n",
       "    <tr style=\"text-align: right;\">\n",
       "      <th></th>\n",
       "      <th>Loan issued</th>\n",
       "      <th>Рейтинг</th>\n",
       "      <th>Comission, %</th>\n",
       "      <th>Earned interest</th>\n",
       "      <th>Unpaid, full amount</th>\n",
       "      <th>EL</th>\n",
       "      <th>Loss</th>\n",
       "      <th>InvestorProfit</th>\n",
       "      <th>profit</th>\n",
       "      <th>profit_per</th>\n",
       "      <th>profit_per_rez</th>\n",
       "    </tr>\n",
       "  </thead>\n",
       "  <tbody>\n",
       "    <tr>\n",
       "      <th>0</th>\n",
       "      <td>3170000</td>\n",
       "      <td>7</td>\n",
       "      <td>0.0530</td>\n",
       "      <td>211051</td>\n",
       "      <td>862850</td>\n",
       "      <td>0.015</td>\n",
       "      <td>12942.750</td>\n",
       "      <td>198108.250</td>\n",
       "      <td>208607.987250</td>\n",
       "      <td>0.065807</td>\n",
       "      <td>1</td>\n",
       "    </tr>\n",
       "    <tr>\n",
       "      <th>1</th>\n",
       "      <td>500000</td>\n",
       "      <td>17</td>\n",
       "      <td>0.0650</td>\n",
       "      <td>39518</td>\n",
       "      <td>289518</td>\n",
       "      <td>0.100</td>\n",
       "      <td>28951.800</td>\n",
       "      <td>10566.200</td>\n",
       "      <td>11253.003000</td>\n",
       "      <td>0.022506</td>\n",
       "      <td>1</td>\n",
       "    </tr>\n",
       "    <tr>\n",
       "      <th>2</th>\n",
       "      <td>11600897</td>\n",
       "      <td>9</td>\n",
       "      <td>0.0450</td>\n",
       "      <td>537680</td>\n",
       "      <td>9567386</td>\n",
       "      <td>0.015</td>\n",
       "      <td>143510.790</td>\n",
       "      <td>394169.210</td>\n",
       "      <td>411906.824450</td>\n",
       "      <td>0.035506</td>\n",
       "      <td>1</td>\n",
       "    </tr>\n",
       "    <tr>\n",
       "      <th>3</th>\n",
       "      <td>5250000</td>\n",
       "      <td>13</td>\n",
       "      <td>0.0450</td>\n",
       "      <td>233022</td>\n",
       "      <td>2858022</td>\n",
       "      <td>0.015</td>\n",
       "      <td>42870.330</td>\n",
       "      <td>190151.670</td>\n",
       "      <td>198708.495150</td>\n",
       "      <td>0.037849</td>\n",
       "      <td>1</td>\n",
       "    </tr>\n",
       "    <tr>\n",
       "      <th>4</th>\n",
       "      <td>3000000</td>\n",
       "      <td>8</td>\n",
       "      <td>0.0375</td>\n",
       "      <td>216485</td>\n",
       "      <td>0</td>\n",
       "      <td>0.000</td>\n",
       "      <td>0.000</td>\n",
       "      <td>216485.000</td>\n",
       "      <td>224603.187500</td>\n",
       "      <td>0.074868</td>\n",
       "      <td>1</td>\n",
       "    </tr>\n",
       "    <tr>\n",
       "      <th>...</th>\n",
       "      <td>...</td>\n",
       "      <td>...</td>\n",
       "      <td>...</td>\n",
       "      <td>...</td>\n",
       "      <td>...</td>\n",
       "      <td>...</td>\n",
       "      <td>...</td>\n",
       "      <td>...</td>\n",
       "      <td>...</td>\n",
       "      <td>...</td>\n",
       "      <td>...</td>\n",
       "    </tr>\n",
       "    <tr>\n",
       "      <th>527</th>\n",
       "      <td>3000000</td>\n",
       "      <td>17</td>\n",
       "      <td>0.0680</td>\n",
       "      <td>83062</td>\n",
       "      <td>3206436</td>\n",
       "      <td>0.015</td>\n",
       "      <td>48096.540</td>\n",
       "      <td>34965.460</td>\n",
       "      <td>37343.111280</td>\n",
       "      <td>0.012448</td>\n",
       "      <td>1</td>\n",
       "    </tr>\n",
       "    <tr>\n",
       "      <th>528</th>\n",
       "      <td>6560000</td>\n",
       "      <td>10</td>\n",
       "      <td>0.0530</td>\n",
       "      <td>250635</td>\n",
       "      <td>4309425</td>\n",
       "      <td>0.015</td>\n",
       "      <td>64641.375</td>\n",
       "      <td>185993.625</td>\n",
       "      <td>195851.287125</td>\n",
       "      <td>0.029855</td>\n",
       "      <td>1</td>\n",
       "    </tr>\n",
       "    <tr>\n",
       "      <th>529</th>\n",
       "      <td>2844671</td>\n",
       "      <td>14</td>\n",
       "      <td>0.0550</td>\n",
       "      <td>233514</td>\n",
       "      <td>1064981</td>\n",
       "      <td>0.400</td>\n",
       "      <td>425992.400</td>\n",
       "      <td>-192478.400</td>\n",
       "      <td>-203064.712000</td>\n",
       "      <td>-0.071384</td>\n",
       "      <td>0</td>\n",
       "    </tr>\n",
       "    <tr>\n",
       "      <th>530</th>\n",
       "      <td>500000</td>\n",
       "      <td>12</td>\n",
       "      <td>0.0550</td>\n",
       "      <td>13235</td>\n",
       "      <td>414705</td>\n",
       "      <td>0.015</td>\n",
       "      <td>6220.575</td>\n",
       "      <td>7014.425</td>\n",
       "      <td>7400.218375</td>\n",
       "      <td>0.014800</td>\n",
       "      <td>1</td>\n",
       "    </tr>\n",
       "    <tr>\n",
       "      <th>531</th>\n",
       "      <td>5000000</td>\n",
       "      <td>13</td>\n",
       "      <td>0.0500</td>\n",
       "      <td>276999</td>\n",
       "      <td>1805166</td>\n",
       "      <td>0.015</td>\n",
       "      <td>27077.490</td>\n",
       "      <td>249921.510</td>\n",
       "      <td>262417.585500</td>\n",
       "      <td>0.052484</td>\n",
       "      <td>1</td>\n",
       "    </tr>\n",
       "  </tbody>\n",
       "</table>\n",
       "<p>532 rows × 11 columns</p>\n",
       "</div>"
      ],
      "text/plain": [
       "     Loan issued  Рейтинг  Comission, %  Earned interest  Unpaid, full amount  \\\n",
       "0        3170000        7        0.0530           211051               862850   \n",
       "1         500000       17        0.0650            39518               289518   \n",
       "2       11600897        9        0.0450           537680              9567386   \n",
       "3        5250000       13        0.0450           233022              2858022   \n",
       "4        3000000        8        0.0375           216485                    0   \n",
       "..           ...      ...           ...              ...                  ...   \n",
       "527      3000000       17        0.0680            83062              3206436   \n",
       "528      6560000       10        0.0530           250635              4309425   \n",
       "529      2844671       14        0.0550           233514              1064981   \n",
       "530       500000       12        0.0550            13235               414705   \n",
       "531      5000000       13        0.0500           276999              1805166   \n",
       "\n",
       "        EL        Loss  InvestorProfit         profit  profit_per  \\\n",
       "0    0.015   12942.750      198108.250  208607.987250    0.065807   \n",
       "1    0.100   28951.800       10566.200   11253.003000    0.022506   \n",
       "2    0.015  143510.790      394169.210  411906.824450    0.035506   \n",
       "3    0.015   42870.330      190151.670  198708.495150    0.037849   \n",
       "4    0.000       0.000      216485.000  224603.187500    0.074868   \n",
       "..     ...         ...             ...            ...         ...   \n",
       "527  0.015   48096.540       34965.460   37343.111280    0.012448   \n",
       "528  0.015   64641.375      185993.625  195851.287125    0.029855   \n",
       "529  0.400  425992.400     -192478.400 -203064.712000   -0.071384   \n",
       "530  0.015    6220.575        7014.425    7400.218375    0.014800   \n",
       "531  0.015   27077.490      249921.510  262417.585500    0.052484   \n",
       "\n",
       "     profit_per_rez  \n",
       "0                 1  \n",
       "1                 1  \n",
       "2                 1  \n",
       "3                 1  \n",
       "4                 1  \n",
       "..              ...  \n",
       "527               1  \n",
       "528               1  \n",
       "529               0  \n",
       "530               1  \n",
       "531               1  \n",
       "\n",
       "[532 rows x 11 columns]"
      ]
     },
     "execution_count": 8,
     "metadata": {},
     "output_type": "execute_result"
    }
   ],
   "source": [
    "data['profit_per_rez'] = np.where(data['profit_per']>0,1,0)\n",
    "data"
   ]
  },
  {
   "cell_type": "code",
   "execution_count": 9,
   "id": "462501dc",
   "metadata": {
    "scrolled": true
   },
   "outputs": [
    {
     "data": {
      "text/plain": [
       "1    406\n",
       "0    126\n",
       "Name: profit_per_rez, dtype: int64"
      ]
     },
     "execution_count": 9,
     "metadata": {},
     "output_type": "execute_result"
    }
   ],
   "source": [
    "data['profit_per_rez'].value_counts()"
   ]
  },
  {
   "cell_type": "code",
   "execution_count": 10,
   "id": "6c9e23e1",
   "metadata": {
    "scrolled": false
   },
   "outputs": [
    {
     "data": {
      "image/png": "[encoded data removed]",
      "text/plain": [
       "<Figure size 432x288 with 1 Axes>"
      ]
     },
     "metadata": {
      "needs_background": "light"
     },
     "output_type": "display_data"
    }
   ],
   "source": [
    "sns.countplot(x='profit_per_rez', data=data)\n",
    "pass"
   ]
  },
  {
   "cell_type": "markdown",
   "id": "f9eb446f",
   "metadata": {},
   "source": [
    "Загружаем наши факторы"
   ]
  },
  {
   "cell_type": "code",
   "execution_count": 11,
   "id": "d655898f",
   "metadata": {},
   "outputs": [
    {
     "data": {
      "text/html": [
       "<div>\n",
       "<style scoped>\n",
       "    .dataframe tbody tr th:only-of-type {\n",
       "        vertical-align: middle;\n",
       "    }\n",
       "\n",
       "    .dataframe tbody tr th {\n",
       "        vertical-align: top;\n",
       "    }\n",
       "\n",
       "    .dataframe thead th {\n",
       "        text-align: right;\n",
       "    }\n",
       "</style>\n",
       "<table border=\"1\" class=\"dataframe\">\n",
       "  <thead>\n",
       "    <tr style=\"text-align: right;\">\n",
       "      <th></th>\n",
       "      <th>учредителю подсказывают / на ВИ другой человек</th>\n",
       "      <th>На ВИ присутствует \"сотрудник\", в тч за кадром, который отвечает на вопросы</th>\n",
       "      <th>\"Сотрудник\" отвечает на вопросы. ГД/учредитель молчит или отвечает редко.</th>\n",
       "      <th>В компании была смена учредителя</th>\n",
       "      <th>учредитель женщина</th>\n",
       "      <th>Первое ЮЛ</th>\n",
       "      <th>Выручка компании в первый год &gt; 30 млн.</th>\n",
       "      <th>Текущее ЮЛ основано до 30 лет</th>\n",
       "      <th>КИ учредителя &lt; 1 млн</th>\n",
       "      <th>Не знает объем выручки</th>\n",
       "      <th>...</th>\n",
       "      <th>Не знает наценку (рентабельность, прибыль)</th>\n",
       "      <th>Не знает кредиторов ), в тч объем обязательств</th>\n",
       "      <th>Нерелевантный опыт работы</th>\n",
       "      <th>Нелогичный выбор сферы бизнеса</th>\n",
       "      <th>За ответом на вопросы 10-14 просит обратиться к сотруднику</th>\n",
       "      <th>Данные предоставленные заемщиком разнятся с действительностью &gt; 50%</th>\n",
       "      <th>Есть \"партнер\", который официально не оформлен</th>\n",
       "      <th>Не потребовалось денег для начала бизнеса, тк были договоренности с поставщиками</th>\n",
       "      <th>Офис находится в здании партнера/друга/родственника, аренду не платит.</th>\n",
       "      <th>Заемщик от партнера и был подготовлен к ВИ</th>\n",
       "    </tr>\n",
       "  </thead>\n",
       "  <tbody>\n",
       "    <tr>\n",
       "      <th>0</th>\n",
       "      <td>0</td>\n",
       "      <td>0</td>\n",
       "      <td>0</td>\n",
       "      <td>0</td>\n",
       "      <td>0</td>\n",
       "      <td>1</td>\n",
       "      <td>0</td>\n",
       "      <td>0</td>\n",
       "      <td>1</td>\n",
       "      <td>0</td>\n",
       "      <td>...</td>\n",
       "      <td>0</td>\n",
       "      <td>0</td>\n",
       "      <td>0</td>\n",
       "      <td>0</td>\n",
       "      <td>0</td>\n",
       "      <td>0</td>\n",
       "      <td>0</td>\n",
       "      <td>0</td>\n",
       "      <td>0</td>\n",
       "      <td>0</td>\n",
       "    </tr>\n",
       "    <tr>\n",
       "      <th>1</th>\n",
       "      <td>0</td>\n",
       "      <td>0</td>\n",
       "      <td>0</td>\n",
       "      <td>0</td>\n",
       "      <td>1</td>\n",
       "      <td>1</td>\n",
       "      <td>0</td>\n",
       "      <td>1</td>\n",
       "      <td>0</td>\n",
       "      <td>0</td>\n",
       "      <td>...</td>\n",
       "      <td>0</td>\n",
       "      <td>0</td>\n",
       "      <td>1</td>\n",
       "      <td>1</td>\n",
       "      <td>0</td>\n",
       "      <td>0</td>\n",
       "      <td>0</td>\n",
       "      <td>0</td>\n",
       "      <td>0</td>\n",
       "      <td>0</td>\n",
       "    </tr>\n",
       "    <tr>\n",
       "      <th>2</th>\n",
       "      <td>0</td>\n",
       "      <td>0</td>\n",
       "      <td>0</td>\n",
       "      <td>1</td>\n",
       "      <td>0</td>\n",
       "      <td>0</td>\n",
       "      <td>0</td>\n",
       "      <td>0</td>\n",
       "      <td>0</td>\n",
       "      <td>0</td>\n",
       "      <td>...</td>\n",
       "      <td>0</td>\n",
       "      <td>0</td>\n",
       "      <td>0</td>\n",
       "      <td>0</td>\n",
       "      <td>0</td>\n",
       "      <td>0</td>\n",
       "      <td>0</td>\n",
       "      <td>0</td>\n",
       "      <td>0</td>\n",
       "      <td>0</td>\n",
       "    </tr>\n",
       "    <tr>\n",
       "      <th>3</th>\n",
       "      <td>0</td>\n",
       "      <td>0</td>\n",
       "      <td>0</td>\n",
       "      <td>0</td>\n",
       "      <td>0</td>\n",
       "      <td>0</td>\n",
       "      <td>0</td>\n",
       "      <td>1</td>\n",
       "      <td>0</td>\n",
       "      <td>0</td>\n",
       "      <td>...</td>\n",
       "      <td>0</td>\n",
       "      <td>0</td>\n",
       "      <td>0</td>\n",
       "      <td>1</td>\n",
       "      <td>0</td>\n",
       "      <td>0</td>\n",
       "      <td>1</td>\n",
       "      <td>0</td>\n",
       "      <td>0</td>\n",
       "      <td>0</td>\n",
       "    </tr>\n",
       "    <tr>\n",
       "      <th>4</th>\n",
       "      <td>0</td>\n",
       "      <td>0</td>\n",
       "      <td>0</td>\n",
       "      <td>0</td>\n",
       "      <td>0</td>\n",
       "      <td>0</td>\n",
       "      <td>0</td>\n",
       "      <td>0</td>\n",
       "      <td>1</td>\n",
       "      <td>0</td>\n",
       "      <td>...</td>\n",
       "      <td>0</td>\n",
       "      <td>0</td>\n",
       "      <td>0</td>\n",
       "      <td>0</td>\n",
       "      <td>0</td>\n",
       "      <td>0</td>\n",
       "      <td>0</td>\n",
       "      <td>0</td>\n",
       "      <td>0</td>\n",
       "      <td>0</td>\n",
       "    </tr>\n",
       "  </tbody>\n",
       "</table>\n",
       "<p>5 rows × 22 columns</p>\n",
       "</div>"
      ],
      "text/plain": [
       "   учредителю подсказывают / на ВИ другой человек  \\\n",
       "0                                               0   \n",
       "1                                               0   \n",
       "2                                               0   \n",
       "3                                               0   \n",
       "4                                               0   \n",
       "\n",
       "   На ВИ присутствует \"сотрудник\", в тч за кадром, который отвечает на вопросы  \\\n",
       "0                                                  0                             \n",
       "1                                                  0                             \n",
       "2                                                  0                             \n",
       "3                                                  0                             \n",
       "4                                                  0                             \n",
       "\n",
       "   \"Сотрудник\" отвечает на вопросы. ГД/учредитель молчит или отвечает редко.  \\\n",
       "0                                                  0                           \n",
       "1                                                  0                           \n",
       "2                                                  0                           \n",
       "3                                                  0                           \n",
       "4                                                  0                           \n",
       "\n",
       "   В компании была смена учредителя  учредитель женщина  Первое ЮЛ  \\\n",
       "0                                 0                   0          1   \n",
       "1                                 0                   1          1   \n",
       "2                                 1                   0          0   \n",
       "3                                 0                   0          0   \n",
       "4                                 0                   0          0   \n",
       "\n",
       "   Выручка компании в первый год > 30 млн.  Текущее ЮЛ основано до 30 лет  \\\n",
       "0                                        0                              0   \n",
       "1                                        0                              1   \n",
       "2                                        0                              0   \n",
       "3                                        0                              1   \n",
       "4                                        0                              0   \n",
       "\n",
       "   КИ учредителя < 1 млн  Не знает объем выручки  ...  \\\n",
       "0                      1                       0  ...   \n",
       "1                      0                       0  ...   \n",
       "2                      0                       0  ...   \n",
       "3                      0                       0  ...   \n",
       "4                      1                       0  ...   \n",
       "\n",
       "   Не знает наценку (рентабельность, прибыль)  \\\n",
       "0                                           0   \n",
       "1                                           0   \n",
       "2                                           0   \n",
       "3                                           0   \n",
       "4                                           0   \n",
       "\n",
       "   Не знает кредиторов ), в тч объем обязательств  Нерелевантный опыт работы  \\\n",
       "0                                               0                          0   \n",
       "1                                               0                          1   \n",
       "2                                               0                          0   \n",
       "3                                               0                          0   \n",
       "4                                               0                          0   \n",
       "\n",
       "   Нелогичный выбор сферы бизнеса  \\\n",
       "0                               0   \n",
       "1                               1   \n",
       "2                               0   \n",
       "3                               1   \n",
       "4                               0   \n",
       "\n",
       "   За ответом на вопросы 10-14 просит обратиться к сотруднику  \\\n",
       "0                                                  0            \n",
       "1                                                  0            \n",
       "2                                                  0            \n",
       "3                                                  0            \n",
       "4                                                  0            \n",
       "\n",
       "   Данные предоставленные заемщиком разнятся с действительностью > 50%  \\\n",
       "0                                                  0                     \n",
       "1                                                  0                     \n",
       "2                                                  0                     \n",
       "3                                                  0                     \n",
       "4                                                  0                     \n",
       "\n",
       "   Есть \"партнер\", который официально не оформлен  \\\n",
       "0                                               0   \n",
       "1                                               0   \n",
       "2                                               0   \n",
       "3                                               1   \n",
       "4                                               0   \n",
       "\n",
       "   Не потребовалось денег для начала бизнеса, тк были договоренности с поставщиками  \\\n",
       "0                                                  0                                  \n",
       "1                                                  0                                  \n",
       "2                                                  0                                  \n",
       "3                                                  0                                  \n",
       "4                                                  0                                  \n",
       "\n",
       "   Офис находится в здании партнера/друга/родственника, аренду не платит.  \\\n",
       "0                                                  0                        \n",
       "1                                                  0                        \n",
       "2                                                  0                        \n",
       "3                                                  0                        \n",
       "4                                                  0                        \n",
       "\n",
       "   Заемщик от партнера и был подготовлен к ВИ  \n",
       "0                                           0  \n",
       "1                                           0  \n",
       "2                                           0  \n",
       "3                                           0  \n",
       "4                                           0  \n",
       "\n",
       "[5 rows x 22 columns]"
      ]
     },
     "execution_count": 11,
     "metadata": {},
     "output_type": "execute_result"
    }
   ],
   "source": [
    "x1 =r'test.xlsx'\n",
    "x = pd.ExcelFile(x1)\n",
    "test = x.parse('Лист2')\n",
    "test.head(5)"
   ]
  },
  {
   "cell_type": "code",
   "execution_count": 12,
   "id": "699e245b",
   "metadata": {
    "scrolled": true
   },
   "outputs": [
    {
     "data": {
      "text/plain": [
       "0"
      ]
     },
     "execution_count": 12,
     "metadata": {},
     "output_type": "execute_result"
    }
   ],
   "source": [
    "test.isna().sum().sum()"
   ]
  },
  {
   "cell_type": "code",
   "execution_count": 13,
   "id": "37f10c53",
   "metadata": {},
   "outputs": [],
   "source": [
    "lt = list(test.columns)"
   ]
  },
  {
   "cell_type": "markdown",
   "id": "731b5a21",
   "metadata": {},
   "source": [
    "Пропущенных значений нет"
   ]
  },
  {
   "cell_type": "code",
   "execution_count": 14,
   "id": "fbeeb7e9",
   "metadata": {},
   "outputs": [
    {
     "data": {
      "image/png": "[encoded data removed]",
      "text/plain": [
       "<Figure size 2520x2520 with 25 Axes>"
      ]
     },
     "metadata": {
      "needs_background": "light"
     },
     "output_type": "display_data"
    }
   ],
   "source": [
    "test[lt].hist(figsize=(35, 35),bins=3)\n",
    "plt.show()"
   ]
  },
  {
   "cell_type": "markdown",
   "id": "4559aa54",
   "metadata": {},
   "source": [
    "Теперь посмотрим распределение факторов по искомой переменной"
   ]
  },
  {
   "cell_type": "code",
   "execution_count": 15,
   "id": "ccb983c2",
   "metadata": {},
   "outputs": [],
   "source": [
    "test['TARGET'] = data['profit_per_rez']"
   ]
  },
  {
   "cell_type": "code",
   "execution_count": 16,
   "id": "9ca07726",
   "metadata": {},
   "outputs": [
    {
     "data": {
      "image/png": "[encoded data removed]",
      "text/plain": [
       "<Figure size 2160x2160 with 22 Axes>"
      ]
     },
     "metadata": {
      "needs_background": "light"
     },
     "output_type": "display_data"
    }
   ],
   "source": [
    "plot_id=1\n",
    "plt.figure(figsize=(30, 30))\n",
    "for feature in lt:\n",
    "    plt.subplot(np.ceil(len(lt) / 4),4,plot_id)\n",
    "    sns.countplot(x=feature, data=test, hue=\"TARGET\")  \n",
    "    plot_id+=1\n",
    "plt.show()    "
   ]
  },
  {
   "cell_type": "markdown",
   "id": "c4a5aa84",
   "metadata": {},
   "source": [
    "### Решение задачи классификации"
   ]
  },
  {
   "cell_type": "markdown",
   "id": "82e7d04a",
   "metadata": {},
   "source": [
    "### Построим простую baseline модель:"
   ]
  },
  {
   "cell_type": "code",
   "execution_count": 17,
   "id": "40043080",
   "metadata": {},
   "outputs": [],
   "source": [
    "X = test.drop(['TARGET'], axis=1)\n",
    "y = test['TARGET']"
   ]
  },
  {
   "cell_type": "code",
   "execution_count": 18,
   "id": "aff53c74",
   "metadata": {},
   "outputs": [
    {
     "data": {
      "text/plain": [
       "(399, 133)"
      ]
     },
     "execution_count": 18,
     "metadata": {},
     "output_type": "execute_result"
    }
   ],
   "source": [
    "from sklearn.model_selection import train_test_split\n",
    "X_train, X_test, Y_train, Y_test = train_test_split(X, y, test_size = 0.25, random_state = 42)\n",
    "\n",
    "N_train, _ = X_train.shape \n",
    "N_test,  _ = X_test.shape \n",
    "\n",
    "N_train, N_test"
   ]
  },
  {
   "cell_type": "code",
   "execution_count": 19,
   "id": "7dd7302e",
   "metadata": {},
   "outputs": [
    {
     "name": "stdout",
     "output_type": "stream",
     "text": [
      "Wall time: 148 ms\n"
     ]
    }
   ],
   "source": [
    "%%time\n",
    "cval_score = model_selection.cross_validate(linear_model.RidgeClassifier(), X_train, Y_train,\n",
    "                                          scoring = [\"precision\",'recall',\"roc_auc\"],return_train_score=True,cv = 10)"
   ]
  },
  {
   "cell_type": "code",
   "execution_count": 20,
   "id": "fec2b230",
   "metadata": {},
   "outputs": [],
   "source": [
    "ridge=linear_model.RidgeClassifier()\n",
    "ridge.fit(X_train,Y_train)\n",
    "Y_train_pr=ridge.predict(X_train)\n",
    "Y_test_pr=ridge.predict(X_test)"
   ]
  },
  {
   "cell_type": "code",
   "execution_count": 21,
   "id": "e4f54697",
   "metadata": {},
   "outputs": [
    {
     "name": "stdout",
     "output_type": "stream",
     "text": [
      "RidgeClassifier кросс-валидация train: \troc_auc:0.73\tprecision:0.79\trecall:0.97\n",
      "RidgeClassifier кросс-валидация test: \troc_auc:0.65\tprecision:0.77\trecall:0.95\n",
      "RidgeClassifier обучающая выборка: \troc_auc:0.59\tprecision:0.79\trecall:0.97\n",
      "RidgeClassifier тестовая выборка: \troc_auc:0.59\tprecision:0.82\trecall:0.97\n"
     ]
    }
   ],
   "source": [
    "print(\"RidgeClassifier кросс-валидация train: \\troc_auc:{:.2}\\tprecision:{:.2}\\trecall:{:.2}\".format(np.mean(cval_score['train_roc_auc']),\n",
    "                                                                                  np.mean(cval_score['train_precision']),\n",
    "                                                                                  np.mean(cval_score['train_recall'])))\n",
    "print(\"RidgeClassifier кросс-валидация test: \\troc_auc:{:.2}\\tprecision:{:.2}\\trecall:{:.2}\".format(np.mean(cval_score['test_roc_auc']),\n",
    "                                                                                  np.mean(cval_score['test_precision']),\n",
    "                                                                                  np.mean(cval_score['test_recall'])))\n",
    "print(\"RidgeClassifier обучающая выборка: \\troc_auc:{:.2}\\tprecision:{:.2}\\trecall:{:.2}\".format(metrics.roc_auc_score(Y_train,Y_train_pr),\n",
    "                                                                                             metrics.precision_score(Y_train,Y_train_pr),\n",
    "                                                                                             metrics.recall_score(Y_train,Y_train_pr)))\n",
    "print(\"RidgeClassifier тестовая выборка: \\troc_auc:{:.2}\\tprecision:{:.2}\\trecall:{:.2}\".format(metrics.roc_auc_score(Y_test,Y_test_pr),\n",
    "                                                                                             metrics.precision_score(Y_test,Y_test_pr),\n",
    "                                                                                             metrics.recall_score(Y_test,Y_test_pr)))"
   ]
  },
  {
   "cell_type": "code",
   "execution_count": 22,
   "id": "1fdd2b94",
   "metadata": {},
   "outputs": [
    {
     "data": {
      "image/png": "[encoded data removed]",
      "text/plain": [
       "<Figure size 432x288 with 2 Axes>"
      ]
     },
     "metadata": {
      "needs_background": "light"
     },
     "output_type": "display_data"
    }
   ],
   "source": [
    "sns.heatmap(metrics.confusion_matrix(Y_test,Y_test_pr),annot=True,cmap=\"Blues\",square=True)\n",
    "plt.ylabel(\"TARGET\")\n",
    "plt.xlabel(\"PREDICTED\")\n",
    "plt.title(\"Confusion matrix: RidgeClassifier\")\n",
    "plt.show()"
   ]
  },
  {
   "cell_type": "markdown",
   "id": "e8170033",
   "metadata": {},
   "source": [
    "#### Попробуем более сложные модели:"
   ]
  },
  {
   "cell_type": "code",
   "execution_count": 23,
   "id": "8b5ccab4",
   "metadata": {},
   "outputs": [
    {
     "name": "stdout",
     "output_type": "stream",
     "text": [
      "Wall time: 1.11 s\n"
     ]
    }
   ],
   "source": [
    "%%time\n",
    "cval_score = model_selection.cross_validate(ensemble.RandomForestClassifier(n_estimators=50),  X_train, Y_train,\n",
    "                                          scoring = [\"precision\",'recall',\"roc_auc\"],return_train_score=True,cv = 10)"
   ]
  },
  {
   "cell_type": "code",
   "execution_count": 24,
   "id": "c1293da1",
   "metadata": {},
   "outputs": [],
   "source": [
    "fr=ensemble.RandomForestClassifier(n_estimators=50)\n",
    "fr.fit(X_train,Y_train)\n",
    "Y_train_pr=fr.predict(X_train)\n",
    "Y_test_pr=fr.predict(X_test)"
   ]
  },
  {
   "cell_type": "code",
   "execution_count": 25,
   "id": "f9f7cae9",
   "metadata": {},
   "outputs": [
    {
     "name": "stdout",
     "output_type": "stream",
     "text": [
      "RandomForestClassifier кросс-валидация train: \troc_auc:0.95\tprecision:0.91\trecall:0.98\n",
      "RandomForestClassifier кросс-валидация test: \troc_auc:0.61\tprecision:0.77\trecall:0.86\n",
      "RandomForestClassifier обучающая выборка: \troc_auc:0.83\tprecision:0.91\trecall:0.97\n",
      "RandomForestClassifier тестовая выборка: \troc_auc:0.62\tprecision:0.84\trecall:0.84\n"
     ]
    }
   ],
   "source": [
    "print(\"RandomForestClassifier кросс-валидация train: \\troc_auc:{:.2}\\tprecision:{:.2}\\trecall:{:.2}\".format(np.mean(cval_score['train_roc_auc']),\n",
    "                                                                                  np.mean(cval_score['train_precision']),\n",
    "                                                                                  np.mean(cval_score['train_recall'])))\n",
    "print(\"RandomForestClassifier кросс-валидация test: \\troc_auc:{:.2}\\tprecision:{:.2}\\trecall:{:.2}\".format(np.mean(cval_score['test_roc_auc']),\n",
    "                                                                                  np.mean(cval_score['test_precision']),\n",
    "                                                                                  np.mean(cval_score['test_recall'])))\n",
    "print(\"RandomForestClassifier обучающая выборка: \\troc_auc:{:.2}\\tprecision:{:.2}\\trecall:{:.2}\".format(metrics.roc_auc_score(Y_train,Y_train_pr),\n",
    "                                                                                             metrics.precision_score(Y_train,Y_train_pr),\n",
    "                                                                                             metrics.recall_score(Y_train,Y_train_pr)))\n",
    "print(\"RandomForestClassifier тестовая выборка: \\troc_auc:{:.2}\\tprecision:{:.2}\\trecall:{:.2}\".format(metrics.roc_auc_score(Y_test,Y_test_pr),\n",
    "                                                                                             metrics.precision_score(Y_test,Y_test_pr),\n",
    "                                                                                             metrics.recall_score(Y_test,Y_test_pr)))"
   ]
  },
  {
   "cell_type": "code",
   "execution_count": 26,
   "id": "6c98922c",
   "metadata": {},
   "outputs": [
    {
     "data": {
      "image/png": "[encoded data removed]",
      "text/plain": [
       "<Figure size 432x288 with 2 Axes>"
      ]
     },
     "metadata": {
      "needs_background": "light"
     },
     "output_type": "display_data"
    }
   ],
   "source": [
    "sns.heatmap(metrics.confusion_matrix(Y_test,Y_test_pr),annot=True,cmap=\"Blues\",square=True)\n",
    "plt.ylabel(\"TARGET\")\n",
    "plt.xlabel(\"PREDICTED\")\n",
    "plt.title(\"Confusion matrix: RidgeClassifier\")\n",
    "plt.show()"
   ]
  },
  {
   "cell_type": "markdown",
   "id": "65c672c8",
   "metadata": {},
   "source": [
    "Градиентный бустинг"
   ]
  },
  {
   "cell_type": "code",
   "execution_count": 27,
   "id": "f7cf01c8",
   "metadata": {},
   "outputs": [
    {
     "name": "stdout",
     "output_type": "stream",
     "text": [
      "Wall time: 829 ms\n"
     ]
    }
   ],
   "source": [
    "%%time\n",
    "cval_score = model_selection.cross_validate(ensemble.GradientBoostingClassifier(), X_train, Y_train,\n",
    "                                          scoring = [\"precision\",'recall',\"roc_auc\"],return_train_score=True,cv = 10)"
   ]
  },
  {
   "cell_type": "code",
   "execution_count": 28,
   "id": "c5286d7e",
   "metadata": {},
   "outputs": [],
   "source": [
    "gbc=ensemble.GradientBoostingClassifier()\n",
    "gbc.fit(X_train,Y_train)\n",
    "Y_train_pr=gbc.predict(X_train)\n",
    "Y_test_pr=gbc.predict(X_test)"
   ]
  },
  {
   "cell_type": "code",
   "execution_count": 29,
   "id": "56373fe6",
   "metadata": {},
   "outputs": [
    {
     "name": "stdout",
     "output_type": "stream",
     "text": [
      "GradientBoostingClassifier кросс-валидация train: \troc_auc:0.87\tprecision:0.85\trecall:0.99\n",
      "GradientBoostingClassifier кросс-валидация test: \troc_auc:0.65\tprecision:0.77\trecall:0.92\n",
      "GradientBoostingClassifier обучающая выборка: \troc_auc:0.69\tprecision:0.83\trecall:0.99\n",
      "GradientBoostingClassifier тестовая выборка: \troc_auc:0.6\tprecision:0.82\trecall:0.94\n"
     ]
    }
   ],
   "source": [
    "print(\"GradientBoostingClassifier кросс-валидация train: \\troc_auc:{:.2}\\tprecision:{:.2}\\trecall:{:.2}\".format(np.mean(cval_score['train_roc_auc']),\n",
    "                                                                                  np.mean(cval_score['train_precision']),\n",
    "                                                                                  np.mean(cval_score['train_recall'])))\n",
    "print(\"GradientBoostingClassifier кросс-валидация test: \\troc_auc:{:.2}\\tprecision:{:.2}\\trecall:{:.2}\".format(np.mean(cval_score['test_roc_auc']),\n",
    "                                                                                  np.mean(cval_score['test_precision']),\n",
    "                                                                                  np.mean(cval_score['test_recall'])))\n",
    "print(\"GradientBoostingClassifier обучающая выборка: \\troc_auc:{:.2}\\tprecision:{:.2}\\trecall:{:.2}\".format(metrics.roc_auc_score(Y_train,Y_train_pr),\n",
    "                                                                                             metrics.precision_score(Y_train,Y_train_pr),\n",
    "                                                                                             metrics.recall_score(Y_train,Y_train_pr)))\n",
    "print(\"GradientBoostingClassifier тестовая выборка: \\troc_auc:{:.2}\\tprecision:{:.2}\\trecall:{:.2}\".format(metrics.roc_auc_score(Y_test,Y_test_pr),\n",
    "                                                                                             metrics.precision_score(Y_test,Y_test_pr),\n",
    "                                                                                             metrics.recall_score(Y_test,Y_test_pr)))"
   ]
  },
  {
   "cell_type": "code",
   "execution_count": 30,
   "id": "46b16050",
   "metadata": {},
   "outputs": [
    {
     "data": {
      "image/png": "[encoded data removed]",
      "text/plain": [
       "<Figure size 432x288 with 2 Axes>"
      ]
     },
     "metadata": {
      "needs_background": "light"
     },
     "output_type": "display_data"
    }
   ],
   "source": [
    "sns.heatmap(metrics.confusion_matrix(Y_test,Y_test_pr),annot=True,cmap=\"Blues\",square=True)\n",
    "plt.ylabel(\"TARGET\")\n",
    "plt.xlabel(\"PREDICTED\")\n",
    "plt.title(\"Confusion matrix: RidgeClassifier\")\n",
    "plt.show()"
   ]
  },
  {
   "cell_type": "markdown",
   "id": "8afc7efc",
   "metadata": {},
   "source": [
    "### Теперь попробуем убрать коррелированные между собой признаки"
   ]
  },
  {
   "cell_type": "markdown",
   "id": "1c515854",
   "metadata": {},
   "source": [
    "Найдем корреляции между бинарными переменными, это делает по специальной формуле. Алгоритм приведен ниже"
   ]
  },
  {
   "cell_type": "code",
   "execution_count": 31,
   "id": "4762284e",
   "metadata": {},
   "outputs": [
    {
     "name": "stdout",
     "output_type": "stream",
     "text": [
      "учредителю подсказывают / на ВИ другой человек учредитель женщина 0.924968443362205\n",
      "учредителю подсказывают / на ВИ другой человек Первое ЮЛ 0.9570435974031788\n",
      "учредителю подсказывают / на ВИ другой человек Выручка компании в первый год > 30 млн. 0.9070887000093838\n",
      "учредителю подсказывают / на ВИ другой человек Текущее ЮЛ основано до 30 лет 0.9553716701331482\n",
      "учредителю подсказывают / на ВИ другой человек КИ учредителя < 1 млн 0.9504029914026391\n",
      "учредителю подсказывают / на ВИ другой человек Нерелевантный опыт работы 0.9558975760872053\n",
      "учредителю подсказывают / на ВИ другой человек Нелогичный выбор сферы бизнеса 0.9479798772376592\n",
      "учредителю подсказывают / на ВИ другой человек Есть \"партнер\", который официально не оформлен 0.9371497146590514\n",
      "учредителю подсказывают / на ВИ другой человек TARGET 0.9433811126751648\n",
      "\"Сотрудник\" отвечает на вопросы. ГД/учредитель молчит или отвечает редко. Первое ЮЛ 0.9028236643345053\n",
      "\"Сотрудник\" отвечает на вопросы. ГД/учредитель молчит или отвечает редко. Текущее ЮЛ основано до 30 лет 0.9019183250242649\n",
      "\"Сотрудник\" отвечает на вопросы. ГД/учредитель молчит или отвечает редко. Нерелевантный опыт работы 0.9005235556357548\n",
      "Не знает контрагентов Нерелевантный опыт работы 0.9478347908955924\n",
      "Не знает контрагентов Нелогичный выбор сферы бизнеса 0.9379741856079752\n",
      "Не знает контрагентов Есть \"партнер\", который официально не оформлен 0.9248870351110116\n",
      "Не знает контрагентов TARGET 0.9350035095596324\n",
      "Не знает наценку (рентабельность, прибыль) Нерелевантный опыт работы 0.9799976172406455\n",
      "Не знает наценку (рентабельность, прибыль) Нелогичный выбор сферы бизнеса 0.9763605916265413\n",
      "Не знает наценку (рентабельность, прибыль) За ответом на вопросы 10-14 просит обратиться к сотруднику 0.9380061115053137\n",
      "Не знает наценку (рентабельность, прибыль) Данные предоставленные заемщиком разнятся с действительностью > 50% 0.9324252560078837\n",
      "Не знает наценку (рентабельность, прибыль) Есть \"партнер\", который официально не оформлен 0.9708715580423992\n",
      "Не знает наценку (рентабельность, прибыль) Не потребовалось денег для начала бизнеса, тк были договоренности с поставщиками 0.9404777935938525\n",
      "Не знает наценку (рентабельность, прибыль) TARGET 0.9739429865842585\n",
      "Не знает кредиторов ), в тч объем обязательств Нерелевантный опыт работы 0.9046836963910287\n",
      "Офис находится в здании партнера/друга/родственника, аренду не платит. TARGET 0.9586794776677613\n",
      "Заемщик от партнера и был подготовлен к ВИ TARGET 0.9325998752920802\n"
     ]
    }
   ],
   "source": [
    "k = 0.9\n",
    "sp_1 = []\n",
    "sp_2 = []\n",
    "for number,i in enumerate(test.columns[:-1]):\n",
    "    for j in test.columns[number:]:\n",
    "        a = sum((test[i]==test[j])&(test[i]==0))\n",
    "        b = sum((test[i]==test[j])&(test[i]==1))\n",
    "        c = sum(test[i]>test[j])\n",
    "        d = sum(test[i]<test[j])\n",
    "        if (a+b)*(c+d)*(a+c)*(b+d)==0:\n",
    "            rez = 0\n",
    "        else:\n",
    "            rez = (a*d-c*b)/((a+b)*(c+d)*(a+c)*(b+d))**0.5\n",
    "        if rez>k:\n",
    "            sp_1+=[i]\n",
    "            sp_2+=[j]\n",
    "            print(i,j,rez)\n",
    "        "
   ]
  },
  {
   "cell_type": "markdown",
   "id": "18bf0223",
   "metadata": {},
   "source": [
    "Удалим признаки с большим количеством коррелируемых переменных"
   ]
  },
  {
   "cell_type": "code",
   "execution_count": 32,
   "id": "b51a6ffe",
   "metadata": {},
   "outputs": [
    {
     "data": {
      "text/html": [
       "<div>\n",
       "<style scoped>\n",
       "    .dataframe tbody tr th:only-of-type {\n",
       "        vertical-align: middle;\n",
       "    }\n",
       "\n",
       "    .dataframe tbody tr th {\n",
       "        vertical-align: top;\n",
       "    }\n",
       "\n",
       "    .dataframe thead th {\n",
       "        text-align: right;\n",
       "    }\n",
       "</style>\n",
       "<table border=\"1\" class=\"dataframe\">\n",
       "  <thead>\n",
       "    <tr style=\"text-align: right;\">\n",
       "      <th></th>\n",
       "      <th>На ВИ присутствует \"сотрудник\", в тч за кадром, который отвечает на вопросы</th>\n",
       "      <th>В компании была смена учредителя</th>\n",
       "      <th>учредитель женщина</th>\n",
       "      <th>Первое ЮЛ</th>\n",
       "      <th>Выручка компании в первый год &gt; 30 млн.</th>\n",
       "      <th>Текущее ЮЛ основано до 30 лет</th>\n",
       "      <th>КИ учредителя &lt; 1 млн</th>\n",
       "      <th>Не знает объем выручки</th>\n",
       "      <th>Не знает ФОТ</th>\n",
       "      <th>Нерелевантный опыт работы</th>\n",
       "      <th>Нелогичный выбор сферы бизнеса</th>\n",
       "      <th>За ответом на вопросы 10-14 просит обратиться к сотруднику</th>\n",
       "      <th>Данные предоставленные заемщиком разнятся с действительностью &gt; 50%</th>\n",
       "      <th>Есть \"партнер\", который официально не оформлен</th>\n",
       "      <th>Не потребовалось денег для начала бизнеса, тк были договоренности с поставщиками</th>\n",
       "      <th>TARGET</th>\n",
       "    </tr>\n",
       "  </thead>\n",
       "  <tbody>\n",
       "    <tr>\n",
       "      <th>0</th>\n",
       "      <td>0</td>\n",
       "      <td>0</td>\n",
       "      <td>0</td>\n",
       "      <td>1</td>\n",
       "      <td>0</td>\n",
       "      <td>0</td>\n",
       "      <td>1</td>\n",
       "      <td>0</td>\n",
       "      <td>0</td>\n",
       "      <td>0</td>\n",
       "      <td>0</td>\n",
       "      <td>0</td>\n",
       "      <td>0</td>\n",
       "      <td>0</td>\n",
       "      <td>0</td>\n",
       "      <td>1</td>\n",
       "    </tr>\n",
       "    <tr>\n",
       "      <th>1</th>\n",
       "      <td>0</td>\n",
       "      <td>0</td>\n",
       "      <td>1</td>\n",
       "      <td>1</td>\n",
       "      <td>0</td>\n",
       "      <td>1</td>\n",
       "      <td>0</td>\n",
       "      <td>0</td>\n",
       "      <td>0</td>\n",
       "      <td>1</td>\n",
       "      <td>1</td>\n",
       "      <td>0</td>\n",
       "      <td>0</td>\n",
       "      <td>0</td>\n",
       "      <td>0</td>\n",
       "      <td>1</td>\n",
       "    </tr>\n",
       "    <tr>\n",
       "      <th>2</th>\n",
       "      <td>0</td>\n",
       "      <td>1</td>\n",
       "      <td>0</td>\n",
       "      <td>0</td>\n",
       "      <td>0</td>\n",
       "      <td>0</td>\n",
       "      <td>0</td>\n",
       "      <td>0</td>\n",
       "      <td>0</td>\n",
       "      <td>0</td>\n",
       "      <td>0</td>\n",
       "      <td>0</td>\n",
       "      <td>0</td>\n",
       "      <td>0</td>\n",
       "      <td>0</td>\n",
       "      <td>1</td>\n",
       "    </tr>\n",
       "    <tr>\n",
       "      <th>3</th>\n",
       "      <td>0</td>\n",
       "      <td>0</td>\n",
       "      <td>0</td>\n",
       "      <td>0</td>\n",
       "      <td>0</td>\n",
       "      <td>1</td>\n",
       "      <td>0</td>\n",
       "      <td>0</td>\n",
       "      <td>0</td>\n",
       "      <td>0</td>\n",
       "      <td>1</td>\n",
       "      <td>0</td>\n",
       "      <td>0</td>\n",
       "      <td>1</td>\n",
       "      <td>0</td>\n",
       "      <td>1</td>\n",
       "    </tr>\n",
       "    <tr>\n",
       "      <th>4</th>\n",
       "      <td>0</td>\n",
       "      <td>0</td>\n",
       "      <td>0</td>\n",
       "      <td>0</td>\n",
       "      <td>0</td>\n",
       "      <td>0</td>\n",
       "      <td>1</td>\n",
       "      <td>0</td>\n",
       "      <td>0</td>\n",
       "      <td>0</td>\n",
       "      <td>0</td>\n",
       "      <td>0</td>\n",
       "      <td>0</td>\n",
       "      <td>0</td>\n",
       "      <td>0</td>\n",
       "      <td>1</td>\n",
       "    </tr>\n",
       "    <tr>\n",
       "      <th>...</th>\n",
       "      <td>...</td>\n",
       "      <td>...</td>\n",
       "      <td>...</td>\n",
       "      <td>...</td>\n",
       "      <td>...</td>\n",
       "      <td>...</td>\n",
       "      <td>...</td>\n",
       "      <td>...</td>\n",
       "      <td>...</td>\n",
       "      <td>...</td>\n",
       "      <td>...</td>\n",
       "      <td>...</td>\n",
       "      <td>...</td>\n",
       "      <td>...</td>\n",
       "      <td>...</td>\n",
       "      <td>...</td>\n",
       "    </tr>\n",
       "    <tr>\n",
       "      <th>527</th>\n",
       "      <td>0</td>\n",
       "      <td>0</td>\n",
       "      <td>0</td>\n",
       "      <td>1</td>\n",
       "      <td>0</td>\n",
       "      <td>0</td>\n",
       "      <td>0</td>\n",
       "      <td>0</td>\n",
       "      <td>0</td>\n",
       "      <td>0</td>\n",
       "      <td>0</td>\n",
       "      <td>0</td>\n",
       "      <td>0</td>\n",
       "      <td>0</td>\n",
       "      <td>0</td>\n",
       "      <td>1</td>\n",
       "    </tr>\n",
       "    <tr>\n",
       "      <th>528</th>\n",
       "      <td>0</td>\n",
       "      <td>0</td>\n",
       "      <td>0</td>\n",
       "      <td>1</td>\n",
       "      <td>0</td>\n",
       "      <td>0</td>\n",
       "      <td>1</td>\n",
       "      <td>0</td>\n",
       "      <td>0</td>\n",
       "      <td>0</td>\n",
       "      <td>0</td>\n",
       "      <td>0</td>\n",
       "      <td>0</td>\n",
       "      <td>0</td>\n",
       "      <td>0</td>\n",
       "      <td>1</td>\n",
       "    </tr>\n",
       "    <tr>\n",
       "      <th>529</th>\n",
       "      <td>0</td>\n",
       "      <td>0</td>\n",
       "      <td>0</td>\n",
       "      <td>0</td>\n",
       "      <td>0</td>\n",
       "      <td>1</td>\n",
       "      <td>1</td>\n",
       "      <td>0</td>\n",
       "      <td>0</td>\n",
       "      <td>1</td>\n",
       "      <td>0</td>\n",
       "      <td>0</td>\n",
       "      <td>0</td>\n",
       "      <td>0</td>\n",
       "      <td>0</td>\n",
       "      <td>0</td>\n",
       "    </tr>\n",
       "    <tr>\n",
       "      <th>530</th>\n",
       "      <td>0</td>\n",
       "      <td>0</td>\n",
       "      <td>0</td>\n",
       "      <td>0</td>\n",
       "      <td>0</td>\n",
       "      <td>0</td>\n",
       "      <td>1</td>\n",
       "      <td>0</td>\n",
       "      <td>0</td>\n",
       "      <td>1</td>\n",
       "      <td>0</td>\n",
       "      <td>0</td>\n",
       "      <td>0</td>\n",
       "      <td>0</td>\n",
       "      <td>0</td>\n",
       "      <td>1</td>\n",
       "    </tr>\n",
       "    <tr>\n",
       "      <th>531</th>\n",
       "      <td>0</td>\n",
       "      <td>0</td>\n",
       "      <td>0</td>\n",
       "      <td>0</td>\n",
       "      <td>1</td>\n",
       "      <td>0</td>\n",
       "      <td>0</td>\n",
       "      <td>0</td>\n",
       "      <td>0</td>\n",
       "      <td>1</td>\n",
       "      <td>0</td>\n",
       "      <td>0</td>\n",
       "      <td>0</td>\n",
       "      <td>1</td>\n",
       "      <td>0</td>\n",
       "      <td>1</td>\n",
       "    </tr>\n",
       "  </tbody>\n",
       "</table>\n",
       "<p>532 rows × 16 columns</p>\n",
       "</div>"
      ],
      "text/plain": [
       "     На ВИ присутствует \"сотрудник\", в тч за кадром, который отвечает на вопросы  \\\n",
       "0                                                    0                             \n",
       "1                                                    0                             \n",
       "2                                                    0                             \n",
       "3                                                    0                             \n",
       "4                                                    0                             \n",
       "..                                                 ...                             \n",
       "527                                                  0                             \n",
       "528                                                  0                             \n",
       "529                                                  0                             \n",
       "530                                                  0                             \n",
       "531                                                  0                             \n",
       "\n",
       "     В компании была смена учредителя  учредитель женщина  Первое ЮЛ  \\\n",
       "0                                   0                   0          1   \n",
       "1                                   0                   1          1   \n",
       "2                                   1                   0          0   \n",
       "3                                   0                   0          0   \n",
       "4                                   0                   0          0   \n",
       "..                                ...                 ...        ...   \n",
       "527                                 0                   0          1   \n",
       "528                                 0                   0          1   \n",
       "529                                 0                   0          0   \n",
       "530                                 0                   0          0   \n",
       "531                                 0                   0          0   \n",
       "\n",
       "     Выручка компании в первый год > 30 млн.  Текущее ЮЛ основано до 30 лет  \\\n",
       "0                                          0                              0   \n",
       "1                                          0                              1   \n",
       "2                                          0                              0   \n",
       "3                                          0                              1   \n",
       "4                                          0                              0   \n",
       "..                                       ...                            ...   \n",
       "527                                        0                              0   \n",
       "528                                        0                              0   \n",
       "529                                        0                              1   \n",
       "530                                        0                              0   \n",
       "531                                        1                              0   \n",
       "\n",
       "     КИ учредителя < 1 млн  Не знает объем выручки  Не знает ФОТ  \\\n",
       "0                        1                       0             0   \n",
       "1                        0                       0             0   \n",
       "2                        0                       0             0   \n",
       "3                        0                       0             0   \n",
       "4                        1                       0             0   \n",
       "..                     ...                     ...           ...   \n",
       "527                      0                       0             0   \n",
       "528                      1                       0             0   \n",
       "529                      1                       0             0   \n",
       "530                      1                       0             0   \n",
       "531                      0                       0             0   \n",
       "\n",
       "     Нерелевантный опыт работы  Нелогичный выбор сферы бизнеса  \\\n",
       "0                            0                               0   \n",
       "1                            1                               1   \n",
       "2                            0                               0   \n",
       "3                            0                               1   \n",
       "4                            0                               0   \n",
       "..                         ...                             ...   \n",
       "527                          0                               0   \n",
       "528                          0                               0   \n",
       "529                          1                               0   \n",
       "530                          1                               0   \n",
       "531                          1                               0   \n",
       "\n",
       "     За ответом на вопросы 10-14 просит обратиться к сотруднику  \\\n",
       "0                                                    0            \n",
       "1                                                    0            \n",
       "2                                                    0            \n",
       "3                                                    0            \n",
       "4                                                    0            \n",
       "..                                                 ...            \n",
       "527                                                  0            \n",
       "528                                                  0            \n",
       "529                                                  0            \n",
       "530                                                  0            \n",
       "531                                                  0            \n",
       "\n",
       "     Данные предоставленные заемщиком разнятся с действительностью > 50%  \\\n",
       "0                                                    0                     \n",
       "1                                                    0                     \n",
       "2                                                    0                     \n",
       "3                                                    0                     \n",
       "4                                                    0                     \n",
       "..                                                 ...                     \n",
       "527                                                  0                     \n",
       "528                                                  0                     \n",
       "529                                                  0                     \n",
       "530                                                  0                     \n",
       "531                                                  0                     \n",
       "\n",
       "     Есть \"партнер\", который официально не оформлен  \\\n",
       "0                                                 0   \n",
       "1                                                 0   \n",
       "2                                                 0   \n",
       "3                                                 1   \n",
       "4                                                 0   \n",
       "..                                              ...   \n",
       "527                                               0   \n",
       "528                                               0   \n",
       "529                                               0   \n",
       "530                                               0   \n",
       "531                                               1   \n",
       "\n",
       "     Не потребовалось денег для начала бизнеса, тк были договоренности с поставщиками  \\\n",
       "0                                                    0                                  \n",
       "1                                                    0                                  \n",
       "2                                                    0                                  \n",
       "3                                                    0                                  \n",
       "4                                                    0                                  \n",
       "..                                                 ...                                  \n",
       "527                                                  0                                  \n",
       "528                                                  0                                  \n",
       "529                                                  0                                  \n",
       "530                                                  0                                  \n",
       "531                                                  0                                  \n",
       "\n",
       "     TARGET  \n",
       "0         1  \n",
       "1         1  \n",
       "2         1  \n",
       "3         1  \n",
       "4         1  \n",
       "..      ...  \n",
       "527       1  \n",
       "528       1  \n",
       "529       0  \n",
       "530       1  \n",
       "531       1  \n",
       "\n",
       "[532 rows x 16 columns]"
      ]
     },
     "execution_count": 32,
     "metadata": {},
     "output_type": "execute_result"
    }
   ],
   "source": [
    "test = test.drop(sp_1,axis = 1)\n",
    "test"
   ]
  },
  {
   "cell_type": "markdown",
   "id": "6b8ee21b",
   "metadata": {},
   "source": [
    "### Обучим опять простую модель"
   ]
  },
  {
   "cell_type": "code",
   "execution_count": 33,
   "id": "6ced7514",
   "metadata": {},
   "outputs": [
    {
     "name": "stdout",
     "output_type": "stream",
     "text": [
      "Wall time: 146 ms\n"
     ]
    }
   ],
   "source": [
    "%%time\n",
    "X = test.drop(['TARGET'], axis=1)\n",
    "y = test['TARGET']\n",
    "X_train, X_test, Y_train, Y_test = train_test_split(X, y, test_size = 0.25, random_state = 42)\n",
    "\n",
    "N_train, _ = X_train.shape \n",
    "N_test,  _ = X_test.shape \n",
    "cval_score = model_selection.cross_validate(linear_model.RidgeClassifier(), X_train, Y_train,\n",
    "                                          scoring = [\"precision\",'recall',\"roc_auc\"],return_train_score=True,cv = 10)\n"
   ]
  },
  {
   "cell_type": "code",
   "execution_count": 34,
   "id": "cbbcd2d1",
   "metadata": {},
   "outputs": [],
   "source": [
    "ridge=linear_model.RidgeClassifier()\n",
    "ridge.fit(X_train,Y_train)\n",
    "Y_train_pr=ridge.predict(X_train)\n",
    "Y_test_pr=ridge.predict(X_test)"
   ]
  },
  {
   "cell_type": "code",
   "execution_count": 35,
   "id": "88072160",
   "metadata": {},
   "outputs": [
    {
     "name": "stdout",
     "output_type": "stream",
     "text": [
      "RidgeClassifier кросс-валидация train: \troc_auc:0.71\tprecision:0.79\trecall:0.97\n",
      "RidgeClassifier кросс-валидация test: \troc_auc:0.66\tprecision:0.77\trecall:0.96\n",
      "RidgeClassifier обучающая выборка: \troc_auc:0.58\tprecision:0.79\trecall:0.97\n",
      "RidgeClassifier тестовая выборка: \troc_auc:0.62\tprecision:0.83\trecall:0.96\n"
     ]
    }
   ],
   "source": [
    "print(\"RidgeClassifier кросс-валидация train: \\troc_auc:{:.2}\\tprecision:{:.2}\\trecall:{:.2}\".format(np.mean(cval_score['train_roc_auc']),\n",
    "                                                                                  np.mean(cval_score['train_precision']),\n",
    "                                                                                  np.mean(cval_score['train_recall'])))\n",
    "print(\"RidgeClassifier кросс-валидация test: \\troc_auc:{:.2}\\tprecision:{:.2}\\trecall:{:.2}\".format(np.mean(cval_score['test_roc_auc']),\n",
    "                                                                                  np.mean(cval_score['test_precision']),\n",
    "                                                                                  np.mean(cval_score['test_recall'])))\n",
    "print(\"RidgeClassifier обучающая выборка: \\troc_auc:{:.2}\\tprecision:{:.2}\\trecall:{:.2}\".format(metrics.roc_auc_score(Y_train,Y_train_pr),\n",
    "                                                                                             metrics.precision_score(Y_train,Y_train_pr),\n",
    "                                                                                             metrics.recall_score(Y_train,Y_train_pr)))\n",
    "print(\"RidgeClassifier тестовая выборка: \\troc_auc:{:.2}\\tprecision:{:.2}\\trecall:{:.2}\".format(metrics.roc_auc_score(Y_test,Y_test_pr),\n",
    "                                                                                             metrics.precision_score(Y_test,Y_test_pr),\n",
    "                                                                                             metrics.recall_score(Y_test,Y_test_pr)))"
   ]
  },
  {
   "cell_type": "code",
   "execution_count": 36,
   "id": "41037b09",
   "metadata": {},
   "outputs": [
    {
     "data": {
      "image/png": "[encoded data removed]",
      "text/plain": [
       "<Figure size 432x288 with 2 Axes>"
      ]
     },
     "metadata": {
      "needs_background": "light"
     },
     "output_type": "display_data"
    }
   ],
   "source": [
    "sns.heatmap(metrics.confusion_matrix(Y_test,Y_test_pr),annot=True,cmap=\"Blues\",square=True)\n",
    "plt.ylabel(\"TARGET\")\n",
    "plt.xlabel(\"PREDICTED\")\n",
    "plt.title(\"Confusion matrix: RidgeClassifier\")\n",
    "plt.show()"
   ]
  },
  {
   "cell_type": "markdown",
   "id": "9495ccb7",
   "metadata": {},
   "source": [
    "Удаление переменных улучшило наш результат"
   ]
  },
  {
   "cell_type": "markdown",
   "id": "7c8291cf",
   "metadata": {},
   "source": [
    "### Попробуем обучить несколько моделей GradientBoostingClassifier и выберем лучшую на кросс-валидации:"
   ]
  },
  {
   "cell_type": "markdown",
   "id": "f3a36f60",
   "metadata": {},
   "source": [
    "Перебирать будем значения главных параметров для модели градиентного бустинга: количество деревьев в ансамбле, максимальная глубина, learning_rate"
   ]
  },
  {
   "cell_type": "code",
   "execution_count": 37,
   "id": "3d9d4c3c",
   "metadata": {},
   "outputs": [],
   "source": [
    "parameters_grid = {\n",
    "    'max_depth': [2,3,5],\n",
    "    \"learning_rate\":[0.05,0.1],\n",
    "    \"n_estimators\":[20,50,100]\n",
    "}"
   ]
  },
  {
   "cell_type": "markdown",
   "id": "bc864c97",
   "metadata": {},
   "source": [
    "Из трех метрик \"roc_auc\",\"precision\",'recall' - приоритетной для нас будет \"precision\""
   ]
  },
  {
   "cell_type": "code",
   "execution_count": 38,
   "id": "3b07b1fd",
   "metadata": {},
   "outputs": [
    {
     "data": {
      "text/plain": [
       "GridSearchCV(estimator=GradientBoostingClassifier(), n_jobs=-1,\n",
       "             param_grid={'learning_rate': [0.05, 0.1], 'max_depth': [2, 3, 5],\n",
       "                         'n_estimators': [20, 50, 100]},\n",
       "             refit='precision', scoring=['precision', 'recall', 'roc_auc'])"
      ]
     },
     "execution_count": 38,
     "metadata": {},
     "output_type": "execute_result"
    }
   ],
   "source": [
    "gridgb = model_selection.GridSearchCV(ensemble.GradientBoostingClassifier(), parameters_grid, return_train_score=False,\n",
    "                    n_jobs=-1, scoring=[\"precision\",'recall',\"roc_auc\"],refit=\"precision\")\n",
    "gridgb.fit(X_train, Y_train)"
   ]
  },
  {
   "cell_type": "code",
   "execution_count": 39,
   "id": "8577bf9d",
   "metadata": {},
   "outputs": [
    {
     "data": {
      "text/plain": [
       "{'learning_rate': 0.05, 'max_depth': 3, 'n_estimators': 100}"
      ]
     },
     "execution_count": 39,
     "metadata": {},
     "output_type": "execute_result"
    }
   ],
   "source": [
    "gridgb.best_params_"
   ]
  },
  {
   "cell_type": "code",
   "execution_count": 40,
   "id": "6840c480",
   "metadata": {},
   "outputs": [],
   "source": [
    "gbc=ensemble.GradientBoostingClassifier(learning_rate= 0.1, max_depth= 5, n_estimators= 100)\n",
    "gbc.fit(X_train,Y_train)\n",
    "Y_train_pr=gbc.predict(X_train)\n",
    "Y_test_pr=gbc.predict(X_test)"
   ]
  },
  {
   "cell_type": "code",
   "execution_count": 41,
   "id": "4fce28a6",
   "metadata": {},
   "outputs": [
    {
     "name": "stdout",
     "output_type": "stream",
     "text": [
      "GradientBoostingClassifier обучающая выборка: \troc_auc:0.78\tprecision:0.88\trecall:0.98\n",
      "GradientBoostingClassifier тестовая выборка: \troc_auc:0.57\tprecision:0.82\trecall:0.83\n"
     ]
    }
   ],
   "source": [
    "print(\"GradientBoostingClassifier обучающая выборка: \\troc_auc:{:.2}\\tprecision:{:.2}\\trecall:{:.2}\".format(metrics.roc_auc_score(Y_train,Y_train_pr),\n",
    "                                                                                             metrics.precision_score(Y_train,Y_train_pr),\n",
    "                                                                                             metrics.recall_score(Y_train,Y_train_pr)))\n",
    "print(\"GradientBoostingClassifier тестовая выборка: \\troc_auc:{:.2}\\tprecision:{:.2}\\trecall:{:.2}\".format(metrics.roc_auc_score(Y_test,Y_test_pr),\n",
    "                                                                                             metrics.precision_score(Y_test,Y_test_pr),\n",
    "                                                                                             metrics.recall_score(Y_test,Y_test_pr)))"
   ]
  },
  {
   "cell_type": "code",
   "execution_count": 42,
   "id": "aa7656af",
   "metadata": {},
   "outputs": [
    {
     "data": {
      "image/png": "[encoded data removed]",
      "text/plain": [
       "<Figure size 432x288 with 2 Axes>"
      ]
     },
     "metadata": {
      "needs_background": "light"
     },
     "output_type": "display_data"
    }
   ],
   "source": [
    "sns.heatmap(metrics.confusion_matrix(Y_test,Y_test_pr),annot=True,cmap=\"Blues\",square=True)\n",
    "plt.ylabel(\"TARGET\")\n",
    "plt.xlabel(\"PREDICTED\")\n",
    "plt.title(\"Confusion matrix: GradientBoostingClassifier\")\n",
    "plt.show()"
   ]
  },
  {
   "cell_type": "code",
   "execution_count": 43,
   "id": "906abc32",
   "metadata": {},
   "outputs": [
    {
     "name": "stdout",
     "output_type": "stream",
     "text": [
      "              precision    recall  f1-score   support\n",
      "\n",
      "           0       0.33      0.32      0.33        28\n",
      "           1       0.82      0.83      0.82       105\n",
      "\n",
      "    accuracy                           0.72       133\n",
      "   macro avg       0.58      0.58      0.58       133\n",
      "weighted avg       0.72      0.72      0.72       133\n",
      "\n"
     ]
    }
   ],
   "source": [
    "print(metrics.classification_report(Y_test,Y_test_pr))"
   ]
  },
  {
   "cell_type": "markdown",
   "id": "a4d6b770",
   "metadata": {},
   "source": [
    "Модель GradientBoostingClassifier с параментрами {'learning_rate': 0.1, 'max_depth': 3, 'n_estimators': 50}  \n",
    "Показала себя хуже, чем простая baseline модель (потому что у нас малое количество данных) на всех метриках \n",
    "GradientBoostingClassifier тестовая выборка: \troc_auc:0.55\tprecision:0.81\trecall:0.82  \n",
    "RidgeClassifier тестовая выборка: \t            roc_auc:0.62\tprecision:0.83\trecall:0.96"
   ]
  },
  {
   "cell_type": "markdown",
   "id": "04a03716",
   "metadata": {},
   "source": [
    "Лучший результат получился, когда мы убрали коррелированные переменные и применили классическую baseline модель"
   ]
  },
  {
   "cell_type": "markdown",
   "id": "e7297247",
   "metadata": {},
   "source": [
    "### Самые важные признаки для данной модели:"
   ]
  },
  {
   "cell_type": "code",
   "execution_count": 45,
   "id": "486b6fe5",
   "metadata": {},
   "outputs": [
    {
     "data": {
      "image/png": "[encoded data removed]",
      "text/plain": [
       "<Figure size 720x360 with 1 Axes>"
      ]
     },
     "metadata": {
      "needs_background": "light"
     },
     "output_type": "display_data"
    }
   ],
   "source": [
    "fiorder=np.argsort(-gbc.feature_importances_)\n",
    "plt.figure(figsize=(10,5))\n",
    "plt.plot(gbc.feature_importances_[fiorder],\"b+\")\n",
    "plt.xticks(range(X_train.shape[1]), X_train.columns[fiorder],rotation=90)\n",
    "plt.axhline(0.0,linestyle=\"-\")\n",
    "plt.axvline(10,linestyle=\":\")\n",
    "plt.title(\"Feature importances\")\n",
    "plt.show()"
   ]
  },
  {
   "cell_type": "code",
   "execution_count": 60,
   "id": "bccd868b",
   "metadata": {},
   "outputs": [
    {
     "name": "stdout",
     "output_type": "stream",
     "text": [
      "10 самых важных признаков:\n",
      "Нелогичный выбор сферы бизнеса\n",
      "Первое ЮЛ\n",
      "Не знает ФОТ\n",
      "КИ учредителя < 1 млн\n",
      "За ответом на вопросы 10-14 просит обратиться к сотруднику\n",
      "Есть \"партнер\", который официально не оформлен\n",
      "Не потребовалось денег для начала бизнеса, тк были договоренности с поставщиками\n",
      "Выручка компании в первый год > 30 млн.\n",
      "Нерелевантный опыт работы\n",
      "учредитель женщина\n"
     ]
    }
   ],
   "source": [
    "print(\"10 самых важных признаков:\")\n",
    "for i in (X_train.columns[fiorder[:10]]):\n",
    "    print(i)"
   ]
  },
  {
   "cell_type": "code",
   "execution_count": null,
   "id": "671c2830",
   "metadata": {},
   "outputs": [],
   "source": []
  }
 ],
 "metadata": {
  "kernelspec": {
   "display_name": "Python 3",
   "language": "python",
   "name": "python3"
  },
  "language_info": {
   "codemirror_mode": {
    "name": "ipython",
    "version": 3
   },
   "file_extension": ".py",
   "mimetype": "text/x-python",
   "name": "python",
   "nbconvert_exporter": "python",
   "pygments_lexer": "ipython3",
   "version": "3.8.8"
  }
 },
 "nbformat": 4,
 "nbformat_minor": 5
}
